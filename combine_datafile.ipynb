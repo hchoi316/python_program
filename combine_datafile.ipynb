{
 "cells": [
  {
   "cell_type": "code",
   "execution_count": null,
   "metadata": {},
   "outputs": [],
   "source": [
    "import os\n",
    "import sys\n",
    "from PyQt5.QtWidgets import QMainWindow, QApplication, QWidget, QPushButton, QAction, QLineEdit, QMessageBox\n",
    "from PyQt5.QtGui import QIcon\n",
    "from PyQt5.QtCore import pyqtSlot\n",
    "\n",
    "class App(QMainWindow):\n",
    "\n",
    "    def __init__(self):\n",
    "        super().__init__()\n",
    "        self.title = 'Data 합치기 프로그램'\n",
    "        self.left = 700\n",
    "        self.top = 400\n",
    "        self.width = 400\n",
    "        self.height = 140\n",
    "        self.initUI()\n",
    "    \n",
    "    def initUI(self):\n",
    "        self.setWindowTitle(self.title)\n",
    "        self.setGeometry(self.left, self.top, self.width, self.height)\n",
    "    \n",
    "        self.textbox = QLineEdit(self)\n",
    "        self.textbox.move(20, 20)\n",
    "        self.textbox.resize(280,40)\n",
    "\n",
    "        self.button = QPushButton('확인', self)\n",
    "        self.button.move(20,80)\n",
    "        \n",
    "        self.button.clicked.connect(self.on_click)\n",
    "        self.show()\n",
    "    \n",
    "    def on_click(self):\n",
    "        os.system('copy /b ref\\\\' + self.textbox.text() +'.dat' + '+' + 'wm\\\\' + self.textbox.text() + '.dat' +' '+ self.textbox.text() + '.dat')\n",
    "        reply = QMessageBox.about(self, 'Message', '완료')\n",
    "        self.textbox.setText(\"\")\n",
    "\n",
    "if __name__ == '__main__':\n",
    "    app = QApplication(sys.argv)\n",
    "    ex = App()\n",
    "    sys.exit(app.exec_())"
   ]
  }
 ],
 "metadata": {
  "kernelspec": {
   "display_name": "Python 3",
   "language": "python",
   "name": "python3"
  },
  "language_info": {
   "codemirror_mode": {
    "name": "ipython",
    "version": 3
   },
   "file_extension": ".py",
   "mimetype": "text/x-python",
   "name": "python",
   "nbconvert_exporter": "python",
   "pygments_lexer": "ipython3",
   "version": "3.7.6"
  }
 },
 "nbformat": 4,
 "nbformat_minor": 4
}
